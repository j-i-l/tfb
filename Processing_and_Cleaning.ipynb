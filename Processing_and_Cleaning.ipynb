{
 "cells": [
  {
   "cell_type": "code",
   "execution_count": 1,
   "id": "0ad19438",
   "metadata": {},
   "outputs": [],
   "source": [
    "import os\n",
    "import re\n",
    "import pandas as pd"
   ]
  },
  {
   "cell_type": "code",
   "execution_count": 2,
   "id": "5190c25e",
   "metadata": {},
   "outputs": [],
   "source": [
    "import general_param as gparams"
   ]
  },
  {
   "cell_type": "markdown",
   "id": "52e3ec14",
   "metadata": {},
   "source": [
    "# Importing the Data"
   ]
  },
  {
   "cell_type": "code",
   "execution_count": 3,
   "id": "c929bf96",
   "metadata": {},
   "outputs": [],
   "source": [
    "def get_sequences(raw_content: str, is_binding: bool=False):\n",
    "    '''\n",
    "    Extract each sequence, along with its info from the text files.\n",
    "\n",
    "    '''\n",
    "    sequences = []\n",
    "    for seq_data in map(lambda x: x.split('\\n'), raw_content.strip('>>').split('>>')):\n",
    "        _info = seq_data[0].split('_')\n",
    "        # some sequences have a weird ending.\n",
    "        # this is an ugly hack to include them\n",
    "        if len(_info) >= 8:\n",
    "            _info = _info[:3] + ['-'.join(_info[3:-3])] + _info[-3:]\n",
    "        if not is_binding:\n",
    "            _info.insert(1, '')\n",
    "            _info += ['', '', '']\n",
    "        sequences.append(_info + [seq_data[1]])\n",
    "    return sequences"
   ]
  },
  {
   "cell_type": "code",
   "execution_count": 4,
   "id": "880f50a1",
   "metadata": {},
   "outputs": [],
   "source": [
    "sequences = []\n",
    "for file_name, is_binding in [(gparams.binding_seqs, True), (gparams.control_seqs, False)]:\n",
    "    with open(file_name, 'r') as fobj:\n",
    "        raw_content = fobj.read()\n",
    "    sequences.extend(get_sequences(raw_content, is_binding))"
   ]
  },
  {
   "cell_type": "code",
   "execution_count": 5,
   "id": "87bba83e",
   "metadata": {},
   "outputs": [],
   "source": [
    "sequence_data = pd.DataFrame(sequences, columns=gparams.data_header)"
   ]
  },
  {
   "cell_type": "markdown",
   "id": "e07e5414",
   "metadata": {},
   "source": [
    "# Data Cleaning\n",
    "\n",
    "We want to make sure the sequences do not contain any special characters so we replace all characters other than `a`, `c`, `t` or `g` with `x`.\n",
    "\n",
    "Also, the sequences shuld be split up onto lists of single characters, which we then can encode in numerical values."
   ]
  },
  {
   "cell_type": "code",
   "execution_count": 6,
   "id": "0a605fb2",
   "metadata": {},
   "outputs": [],
   "source": [
    "sequence_data[\"sequence\"] = sequence_data.sequence.apply(lambda x: list(re.sub('[^acgt]', 'x', x.lower())))"
   ]
  },
  {
   "cell_type": "code",
   "execution_count": 7,
   "id": "22fc279a",
   "metadata": {},
   "outputs": [],
   "source": [
    "sequence_data.to_pickle(gparams.cleanded_data)"
   ]
  }
 ],
 "metadata": {
  "kernelspec": {
   "display_name": "Python 3 (ipykernel)",
   "language": "python",
   "name": "python3"
  },
  "language_info": {
   "codemirror_mode": {
    "name": "ipython",
    "version": 3
   },
   "file_extension": ".py",
   "mimetype": "text/x-python",
   "name": "python",
   "nbconvert_exporter": "python",
   "pygments_lexer": "ipython3",
   "version": "3.10.0"
  }
 },
 "nbformat": 4,
 "nbformat_minor": 5
}
