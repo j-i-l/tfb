{
 "cells": [
  {
   "cell_type": "code",
   "execution_count": 123,
   "id": "9e8e22e8",
   "metadata": {},
   "outputs": [],
   "source": [
    "import os\n",
    "import re\n",
    "import pandas as pd"
   ]
  },
  {
   "cell_type": "code",
   "execution_count": 147,
   "id": "4bd9cf01",
   "metadata": {},
   "outputs": [],
   "source": [
    "import general_param as gparams"
   ]
  },
  {
   "cell_type": "markdown",
   "id": "22ae18f4",
   "metadata": {},
   "source": [
    "# Importing the Data"
   ]
  },
  {
   "cell_type": "code",
   "execution_count": 117,
   "id": "805c36eb",
   "metadata": {},
   "outputs": [],
   "source": [
    "def get_sequences(raw_content: str, is_binding: bool=False):\n",
    "    '''\n",
    "    Extract each sequence, along with its info from the text files.\n",
    "\n",
    "    '''\n",
    "    sequences = []\n",
    "    for seq_data in map(lambda x: x.split('\\n'), raw_content.strip('>>').split('>>')):\n",
    "        _info = seq_data[0].split('_')\n",
    "        # some sequences have a weird ending.\n",
    "        # this is an ugly hack to include them\n",
    "        if len(_info) >= 8:\n",
    "            _info = _info[:3] + ['-'.join(_info[3:-3])] + _info[-3:]\n",
    "        if not is_binding:\n",
    "            _info.insert(1, '')\n",
    "            _info += ['', '', '']\n",
    "        sequences.append(_info + [seq_data[1]])\n",
    "    return sequences"
   ]
  },
  {
   "cell_type": "code",
   "execution_count": 118,
   "id": "720b1b89",
   "metadata": {},
   "outputs": [],
   "source": [
    "sequences = []\n",
    "for file_name, is_binding in [(gparams.binding_seqs, True), (gparams.control_seqs, False)]:\n",
    "    with open(file_name, 'r') as fobj:\n",
    "        raw_content = fobj.read()\n",
    "    sequences.extend(get_sequences(raw_content, is_binding))"
   ]
  },
  {
   "cell_type": "code",
   "execution_count": 141,
   "id": "77daa051",
   "metadata": {},
   "outputs": [],
   "source": [
    "sequence_data = pd.DataFrame(sequences, columns=data_header)"
   ]
  },
  {
   "cell_type": "markdown",
   "id": "0cca6262",
   "metadata": {},
   "source": [
    "# Data Cleaning\n",
    "\n",
    "We want to make sure the sequences do not contain any special characters so we replace all characters other than `a`, `c`, `t` or `g` with `x`.\n",
    "\n",
    "Also, the sequences shuld be split up onto lists of single characters, which we then can encode in numerical values."
   ]
  },
  {
   "cell_type": "code",
   "execution_count": 142,
   "id": "2ba33bdc",
   "metadata": {},
   "outputs": [],
   "source": [
    "sequence_data[\"sequence_cleaned\"] = sequence_data.sequence.apply(lambda x: list(re.sub('[^acgt]', 'x', x.lower())))"
   ]
  },
  {
   "cell_type": "code",
   "execution_count": 143,
   "id": "ffe21603",
   "metadata": {},
   "outputs": [
    {
     "data": {
      "text/plain": [
       "0       [c, t, g, a, a, g, c, c, t, t, t, c, c, a, a, ...\n",
       "1       [g, a, g, c, c, c, c, a, c, c, t, g, g, t, g, ...\n",
       "2       [t, c, c, a, g, c, t, t, t, c, g, g, c, a, c, ...\n",
       "3       [t, g, c, a, t, t, c, g, c, a, g, a, g, c, a, ...\n",
       "4       [a, g, g, c, g, g, g, t, t, c, g, c, g, c, g, ...\n",
       "                              ...                        \n",
       "5995    [c, g, a, a, t, g, c, t, c, c, g, c, c, g, a, ...\n",
       "5996    [c, t, c, c, a, t, g, g, g, g, g, a, g, g, a, ...\n",
       "5997    [c, g, g, c, a, g, g, g, c, c, g, t, t, c, g, ...\n",
       "5998    [a, c, g, a, c, g, g, t, a, g, g, c, t, c, c, ...\n",
       "5999    [t, t, g, t, g, a, g, c, g, t, a, c, c, g, c, ...\n",
       "Name: sequence_cleaned, Length: 6000, dtype: object"
      ]
     },
     "execution_count": 143,
     "metadata": {},
     "output_type": "execute_result"
    }
   ],
   "source": [
    "sequence_data.sequence_cleaned"
   ]
  },
  {
   "cell_type": "code",
   "execution_count": 145,
   "id": "19bc7231",
   "metadata": {},
   "outputs": [],
   "source": [
    "sequence_data.to_csv(os.path.join(data_path, 'cleaned.csv'), index=False)"
   ]
  }
 ],
 "metadata": {
  "kernelspec": {
   "display_name": "Python 3 (ipykernel)",
   "language": "python",
   "name": "python3"
  },
  "language_info": {
   "codemirror_mode": {
    "name": "ipython",
    "version": 3
   },
   "file_extension": ".py",
   "mimetype": "text/x-python",
   "name": "python",
   "nbconvert_exporter": "python",
   "pygments_lexer": "ipython3",
   "version": "3.10.0"
  }
 },
 "nbformat": 4,
 "nbformat_minor": 5
}
