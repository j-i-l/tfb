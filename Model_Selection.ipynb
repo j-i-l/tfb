{
 "cells": [
  {
   "cell_type": "code",
   "execution_count": 1,
   "id": "1ccb4e09",
   "metadata": {},
   "outputs": [],
   "source": [
    "import pandas as pd\n",
    "from datetime import datetime\n",
    "\n",
    "from sklearn.feature_extraction.text import CountVectorizer\n",
    "from sklearn.base import clone\n",
    "from sklearn.model_selection import train_test_split\n",
    "from sklearn.svm import SVC\n",
    "from sklearn.linear_model import LogisticRegression\n",
    "from sklearn.discriminant_analysis import LinearDiscriminantAnalysis\n",
    "from sklearn.pipeline import make_pipeline\n",
    "from sklearn.preprocessing import FunctionTransformer\n",
    "from sklearn.tree import DecisionTreeClassifier\n",
    "from sklearn.ensemble import RandomForestClassifier\n",
    "from sklearn.ensemble import GradientBoostingClassifier\n",
    "from sklearn.neural_network import MLPClassifier\n",
    "from sklearn.metrics import classification_report, confusion_matrix\n",
    "from sklearn.metrics import f1_score\n",
    "\n",
    "import general_param as gparams"
   ]
  },
  {
   "cell_type": "code",
   "execution_count": 2,
   "id": "3247fa92",
   "metadata": {},
   "outputs": [],
   "source": [
    "kmers_labeled = pd.read_pickle(gparams.kmers_data)"
   ]
  },
  {
   "cell_type": "markdown",
   "id": "f07cfc85",
   "metadata": {},
   "source": [
    "We do the last feature engineering step directly here, so to keep the bag-of-words encoding in sparse form."
   ]
  },
  {
   "cell_type": "code",
   "execution_count": 4,
   "id": "1c7b4b9a",
   "metadata": {},
   "outputs": [],
   "source": [
    "vectorizer = CountVectorizer(analyzer='word', ngram_range=(1, gparams.ngram_nbr))\n",
    "X = vectorizer.fit_transform(kmers_labeled.kmers)"
   ]
  },
  {
   "cell_type": "markdown",
   "id": "612d4cff",
   "metadata": {},
   "source": [
    "# Model Selection\n",
    "\n",
    "We can go with any classification method here, so we will set up a procedure in which we can simply substitute the metod.\n",
    "\n",
    "We will consider:\n",
    "\n",
    "- [support vector classification](https://scikit-learn.org/stable/modules/generated/sklearn.svm.SVC.html)\n",
    "- [logistic regression](https://scikit-learn.org/stable/modules/generated/sklearn.linear_model.LogisticRegression.html)\n",
    "- [random forests](https://scikit-learn.org/stable/modules/generated/sklearn.ensemble.RandomForestClassifier.html?highlight=random%20forest#sklearn-ensemble-randomforestclassifier)\n",
    "- [decision trees](https://scikit-learn.org/stable/modules/generated/sklearn.tree.DecisionTreeClassifier.html)\n",
    "- [gradient boosting classifiers](https://scikit-learn.org/stable/modules/generated/sklearn.ensemble.GradientBoostingClassifier.html)\n",
    "- [~~linear discriminant analysis~~](https://scikit-learn.org/stable/modules/generated/sklearn.discriminant_analysis.LinearDiscriminantAnalysis.html)\n",
    "- [~~neural networks~~](https://scikit-learn.org/stable/modules/generated/sklearn.neural_network.MLPClassifier.html)\n"
   ]
  },
  {
   "cell_type": "code",
   "execution_count": 5,
   "id": "110c83c7",
   "metadata": {},
   "outputs": [],
   "source": [
    "def fit_model(model, x_train, x_test, y_train, y_test):\n",
    "    '''\n",
    "    Perform a fit and retur the f1_score.\n",
    "    \n",
    "    Note that this method perfoms no in-place operations\n",
    "    on the model, so the model is not affected by this\n",
    "    function.\n",
    "    '''\n",
    "    _model = clone(model)\n",
    "    start = datetime.now()\n",
    "    _modle = _model.fit(x_train, y_train)\n",
    "    y_pred = _model.predict(x_test)\n",
    "    print('\\n=======\\n')\n",
    "    print(_model)\n",
    "    print('Confusion Matrix:')\n",
    "    print(confusion_matrix(y_test, y_pred))\n",
    "    print('Classification Report')\n",
    "    print(classification_report(y_test, y_pred))\n",
    "    print(f'Duration {datetime.now() - start}')\n",
    "    return f1_score(y_test, y_pred, average='macro')"
   ]
  },
  {
   "cell_type": "code",
   "execution_count": 6,
   "id": "779faa42",
   "metadata": {},
   "outputs": [],
   "source": [
    "X_train, X_test, Y_train, Y_test = train_test_split(X, kmers_labeled.labels, test_size = 0.2, random_state=gparams.random_state)"
   ]
  },
  {
   "cell_type": "code",
   "execution_count": 7,
   "id": "389a40b4",
   "metadata": {},
   "outputs": [],
   "source": [
    "svc = SVC(kernel='linear', random_state=gparams.random_state)\n",
    "logres = LogisticRegression(random_state=gparams.random_state)\n",
    "dtc = DecisionTreeClassifier(class_weight='balanced', random_state=gparams.random_state)\n",
    "frc = RandomForestClassifier(max_depth=2, class_weight='balanced_subsample', random_state=gparams.random_state)\n",
    "gbc = GradientBoostingClassifier(random_state=gparams.random_state)\n",
    "\n",
    "# lda does not fly with this input dim on my laptop (requires dense input)\n",
    "# lda = LinearDiscriminantAnalysis()\n",
    "# lda_pipe = make_pipeline(FunctionTransformer(lambda x: x.todense(), accept_sparse=True), lda)\n",
    "\n",
    "# this will take forever I fear:\n",
    "#mlpc = MLPClassifier(hidden_layer_sizes=(10,), random_state=gparams.random_state, max_iter=100)"
   ]
  },
  {
   "cell_type": "code",
   "execution_count": null,
   "id": "fd8c61e0",
   "metadata": {},
   "outputs": [
    {
     "name": "stdout",
     "output_type": "stream",
     "text": [
      "\n",
      "=======\n",
      "\n",
      "SVC(kernel='linear', random_state=12)\n",
      "Confusion Matrix:\n",
      "[[1000    2]\n",
      " [  60  138]]\n",
      "Classification Report\n",
      "              precision    recall  f1-score   support\n",
      "\n",
      "           0       0.94      1.00      0.97      1002\n",
      "           1       0.99      0.70      0.82       198\n",
      "\n",
      "    accuracy                           0.95      1200\n",
      "   macro avg       0.96      0.85      0.89      1200\n",
      "weighted avg       0.95      0.95      0.94      1200\n",
      "\n",
      "Duration 0:02:47.787375\n",
      "\n",
      "=======\n",
      "\n",
      "LogisticRegression(random_state=12)\n",
      "Confusion Matrix:\n",
      "[[1001    1]\n",
      " [  73  125]]\n",
      "Classification Report\n",
      "              precision    recall  f1-score   support\n",
      "\n",
      "           0       0.93      1.00      0.96      1002\n",
      "           1       0.99      0.63      0.77       198\n",
      "\n",
      "    accuracy                           0.94      1200\n",
      "   macro avg       0.96      0.82      0.87      1200\n",
      "weighted avg       0.94      0.94      0.93      1200\n",
      "\n",
      "Duration 0:02:30.381972\n"
     ]
    }
   ],
   "source": [
    "for model in [svc, logres, dtc, frc]:\n",
    "    fit_model(model, X_train, X_test, Y_train, Y_test)"
   ]
  },
  {
   "cell_type": "markdown",
   "id": "de18206b",
   "metadata": {},
   "source": [
    "### Decision\n",
    "\n",
    "For the sake of time, we will continue with the support vector classifier only"
   ]
  }
 ],
 "metadata": {
  "kernelspec": {
   "display_name": "Python 3 (ipykernel)",
   "language": "python",
   "name": "python3"
  },
  "language_info": {
   "codemirror_mode": {
    "name": "ipython",
    "version": 3
   },
   "file_extension": ".py",
   "mimetype": "text/x-python",
   "name": "python",
   "nbconvert_exporter": "python",
   "pygments_lexer": "ipython3",
   "version": "3.10.0"
  }
 },
 "nbformat": 4,
 "nbformat_minor": 5
}
